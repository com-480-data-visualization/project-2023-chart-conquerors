{
 "cells": [
  {
   "cell_type": "markdown",
   "metadata": {},
   "source": [
    "# Milestone 1 (7th April, 5pm)\n",
    "10% of the final grade\n",
    "\n",
    "This is a preliminary milestone to let you set up goals for your final project and assess the feasibility of your ideas. Please, fill the following sections about your project.\n",
    "\n",
    "(max. 2000 characters per section)\n",
    "\n",
    "# Dataset\n",
    "Find a dataset (or multiple) that you will explore. Assess the quality of the data it contains and how much preprocessing / data-cleaning it will require before tackling visualization. We recommend using a standard dataset as this course is not about scraping nor data processing.\n",
    "\n",
    "Hint: some good pointers for finding quality publicly available datasets (Google dataset search, Kaggle, OpenSwissData, SNAP and FiveThirtyEight), you could use also the DataSets proposed by the ENAC (see the Announcements section on Zulip).\n",
    "\n",
    "# Problematic\n",
    "Frame the general topic of your visualization and the main axis that you want to develop.\n",
    "\n",
    "What am I trying to show with my visualization?\n",
    "Think of an overview for the project, your motivation, and the target audience.\n",
    "# Exploratory Data Analysis\n",
    "Pre-processing of the data set you chose\n",
    "\n",
    "Show some basic statistics and get insights about the data\n",
    "# Related work\n",
    "What others have already done with the data?\n",
    "Why is your approach original?\n",
    "What source of inspiration do you take? Visualizations that you found on other websites or magazines (might be unrelated to your data).\n",
    "In case you are using a dataset that you have already explored in another context (ML or ADA course, semester project...), you are required to share the report of that work to outline the differences with the submission for this class."
   ]
  },
  {
   "cell_type": "code",
   "execution_count": null,
   "metadata": {},
   "outputs": [],
   "source": []
  }
 ],
 "metadata": {
  "language_info": {
   "name": "python"
  },
  "orig_nbformat": 4
 },
 "nbformat": 4,
 "nbformat_minor": 2
}
